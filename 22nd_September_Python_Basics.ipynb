{
 "cells": [
  {
   "cell_type": "markdown",
   "id": "c14d9fb0",
   "metadata": {},
   "source": [
    "Topic: Python Basics variable:\n",
    "1. Declare two variables, `x` and `y`, and assign them integer values. Swap the\n",
    "values of these variables without using any temporary variable."
   ]
  },
  {
   "cell_type": "code",
   "execution_count": 11,
   "id": "0a168fd2",
   "metadata": {},
   "outputs": [
    {
     "name": "stdout",
     "output_type": "stream",
     "text": [
      "1 2\n",
      "2 1\n"
     ]
    }
   ],
   "source": [
    "x=1     # initializing x with some value\n",
    "y=2     # initializing y with some value\n",
    "print(x,y)   #priting x, y\n",
    "x,y=y,x      #alternating the values of x, y\n",
    "print (x,y)   # printing new values of x,y"
   ]
  },
  {
   "cell_type": "markdown",
   "id": "a5cb2873",
   "metadata": {},
   "source": [
    "2. Create a program that calculates the area of a rectangle. Take the length and\n",
    "width as inputs from the user and store them in variables. Calculate and\n",
    "display the area."
   ]
  },
  {
   "cell_type": "code",
   "execution_count": 14,
   "id": "c3972d50",
   "metadata": {},
   "outputs": [
    {
     "name": "stdout",
     "output_type": "stream",
     "text": [
      "enter the length of the rectangle: 4\n",
      "enter the width of the rectangle: 6\n",
      "Area of the rectangle is : 24.0\n"
     ]
    }
   ],
   "source": [
    "l=float(input('enter the length of the rectangle: '))\n",
    "w=float(input('enter the width of the rectangle: '))\n",
    "area=l*w\n",
    "print(f\"Area of the rectangle is : {area}\")"
   ]
  },
  {
   "cell_type": "markdown",
   "id": "3adff13f",
   "metadata": {},
   "source": [
    "3. Write a Python program that converts temperatures from Celsius to\n",
    "Fahrenheit. Take the temperature in Celsius as input, store it in a variable,\n",
    "convert it to Fahrenheit, and display the result."
   ]
  },
  {
   "cell_type": "code",
   "execution_count": 16,
   "id": "418d7c39",
   "metadata": {},
   "outputs": [
    {
     "name": "stdout",
     "output_type": "stream",
     "text": [
      "enter the the tempearture in celcius unit: 5\n",
      "temperature in fahrenheit scale is: 41.0\n"
     ]
    }
   ],
   "source": [
    "c=float(input(\"enter the the tempearture in celcius unit: \"))\n",
    "f= (c*9/5)+32\n",
    "print(f\"temperature in fahrenheit scale is: {f}\")\n"
   ]
  },
  {
   "cell_type": "markdown",
   "id": "e41d47da",
   "metadata": {},
   "source": [
    "Topic: String based questions\n",
    "1. Write a Python program that takes a string as input and prints the length of\n",
    "the string."
   ]
  },
  {
   "cell_type": "code",
   "execution_count": 18,
   "id": "dbdf3377",
   "metadata": {},
   "outputs": [
    {
     "name": "stdout",
     "output_type": "stream",
     "text": [
      "enter any string: manas karmakar\n",
      "the length of the string is: 14\n"
     ]
    }
   ],
   "source": [
    "s=input(\"enter any string: \")\n",
    "print(f\"the length of the string is: {len(s)}\")"
   ]
  },
  {
   "cell_type": "markdown",
   "id": "c1b548e6",
   "metadata": {},
   "source": [
    "2. Create a program that takes a sentence from the user and counts the number\n",
    "of vowels (a, e, i, o, u) in the string."
   ]
  },
  {
   "cell_type": "code",
   "execution_count": 5,
   "id": "5831111b",
   "metadata": {},
   "outputs": [
    {
     "name": "stdout",
     "output_type": "stream",
     "text": [
      "enter any sentence: my name\n",
      "the number of vowels in the string is: 2\n"
     ]
    }
   ],
   "source": [
    "\n",
    "import re\n",
    "s=input(\"enter any sentence: \") # Taking input of an sentence\n",
    "vowels=r'[aeiouAEIOU]'\n",
    "print(f\"the number of vowels in the string is: {len(re.findall(vowels,s))}\") # Using regex concept to find all vowels which  ahve stored in vowles variable\n"
   ]
  },
  {
   "cell_type": "markdown",
   "id": "c05eaf8e",
   "metadata": {},
   "source": [
    "3. Given a string, reverse the order of characters using string slicing and print\n",
    "the reversed string."
   ]
  },
  {
   "cell_type": "code",
   "execution_count": 6,
   "id": "f85a50fd",
   "metadata": {},
   "outputs": [
    {
     "name": "stdout",
     "output_type": "stream",
     "text": [
      "sanam\n"
     ]
    }
   ],
   "source": [
    "string='manas'\n",
    "rev_string=string[::-1]   # creating a reveresed string\n",
    "print(rev_string)"
   ]
  },
  {
   "cell_type": "markdown",
   "id": "3d3256fd",
   "metadata": {},
   "source": [
    "4. Write a program that takes a string as input and checks if it is a palindrome\n",
    "(reads the same forwards and backwards)."
   ]
  },
  {
   "cell_type": "code",
   "execution_count": 9,
   "id": "48425322",
   "metadata": {},
   "outputs": [
    {
     "name": "stdout",
     "output_type": "stream",
     "text": [
      "enter a string: lebel\n",
      "palindrome\n"
     ]
    }
   ],
   "source": [
    "string=input(\"enter a string: \") # taking user's input of a string\n",
    "rev_string=string[::-1]          # creating a reversed string and storing it into a variable\n",
    "if rev_string==string:           # condition for checking if the string is palindrome or not\n",
    "    print(\"palindrome\")\n",
    "else:\n",
    "    print(\"Not palindrome\")\n"
   ]
  },
  {
   "cell_type": "markdown",
   "id": "b449041d",
   "metadata": {},
   "source": [
    "5. Create a program that takes a string as input and removes all the spaces from\n",
    "it. Print the modified string without spaces."
   ]
  },
  {
   "cell_type": "code",
   "execution_count": 12,
   "id": "c7795fee",
   "metadata": {},
   "outputs": [
    {
     "name": "stdout",
     "output_type": "stream",
     "text": [
      "enter a string with 'spaces': My name is Manas karmakar\n",
      "MynameisManaskarmakar\n"
     ]
    }
   ],
   "source": [
    "string=input(\"enter a string with 'spaces': \") # taking user's input of a string\n",
    "new_string=string.replace(' ','')              # creating a new string that does not hold nay spaces\n",
    "print(new_string)   # printing the new string"
   ]
  },
  {
   "cell_type": "code",
   "execution_count": 16,
   "id": "37e8a985",
   "metadata": {},
   "outputs": [
    {
     "ename": "AttributeError",
     "evalue": "module 'sys' has no attribute 'dir'",
     "output_type": "error",
     "traceback": [
      "\u001b[1;31m---------------------------------------------------------------------------\u001b[0m",
      "\u001b[1;31mAttributeError\u001b[0m                            Traceback (most recent call last)",
      "Input \u001b[1;32mIn [16]\u001b[0m, in \u001b[0;36m<cell line: 2>\u001b[1;34m()\u001b[0m\n\u001b[0;32m      1\u001b[0m \u001b[38;5;28;01mimport\u001b[39;00m \u001b[38;5;21;01msys\u001b[39;00m\n\u001b[1;32m----> 2\u001b[0m \u001b[43msys\u001b[49m\u001b[38;5;241;43m.\u001b[39;49m\u001b[43mdir\u001b[49m()\n",
      "\u001b[1;31mAttributeError\u001b[0m: module 'sys' has no attribute 'dir'"
     ]
    }
   ],
   "source": [
    "import sys\n",
    "sys.dir()"
   ]
  },
  {
   "cell_type": "code",
   "execution_count": null,
   "id": "4e05b494",
   "metadata": {},
   "outputs": [],
   "source": []
  }
 ],
 "metadata": {
  "kernelspec": {
   "display_name": "Python 3 (ipykernel)",
   "language": "python",
   "name": "python3"
  },
  "language_info": {
   "codemirror_mode": {
    "name": "ipython",
    "version": 3
   },
   "file_extension": ".py",
   "mimetype": "text/x-python",
   "name": "python",
   "nbconvert_exporter": "python",
   "pygments_lexer": "ipython3",
   "version": "3.9.12"
  }
 },
 "nbformat": 4,
 "nbformat_minor": 5
}
