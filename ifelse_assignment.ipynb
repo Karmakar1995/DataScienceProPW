{
 "cells": [
  {
   "cell_type": "markdown",
   "id": "52189cff",
   "metadata": {},
   "source": [
    "1. Write a Python program to check if a given number is positive or negative."
   ]
  },
  {
   "cell_type": "code",
   "execution_count": 4,
   "id": "8d5da362",
   "metadata": {},
   "outputs": [
    {
     "name": "stdout",
     "output_type": "stream",
     "text": [
      "enter a number:-2\n",
      "Negative\n"
     ]
    }
   ],
   "source": [
    "n=int(input(\"enter a number:\"))\n",
    "if n<0:\n",
    "    print(\"Negative\")\n",
    "else:\n",
    "    print(\"Positive\")"
   ]
  },
  {
   "cell_type": "markdown",
   "id": "d5d90a02",
   "metadata": {},
   "source": [
    "2.Create a program that determines if a person is eligible to vote based on their age."
   ]
  },
  {
   "cell_type": "code",
   "execution_count": 5,
   "id": "fe4e4023",
   "metadata": {},
   "outputs": [
    {
     "name": "stdout",
     "output_type": "stream",
     "text": [
      "enter your age:50\n",
      "you are elligible for vote\n"
     ]
    }
   ],
   "source": [
    "age=int(input(\"enter your age:\"))\n",
    "if age>18:\n",
    "    print(\"you are elligible for vote\")\n",
    "else:\n",
    "    print(\"you are not elligible for vote\")"
   ]
  },
  {
   "cell_type": "markdown",
   "id": "7cc58173",
   "metadata": {},
   "source": [
    "3. Develop a program to find the maximum of two numbers using if-else statements."
   ]
  },
  {
   "cell_type": "code",
   "execution_count": 8,
   "id": "6351924c",
   "metadata": {},
   "outputs": [
    {
     "name": "stdout",
     "output_type": "stream",
     "text": [
      "enter first number:1\n",
      "enter second number:5\n",
      "maximum of the two numbers is: 5\n"
     ]
    }
   ],
   "source": [
    "a=int(input(\"enter first number:\"))\n",
    "b=int(input(\"enter second number:\"))\n",
    "if a>b:\n",
    "    print(\"maximum of the two numbers is:\",a)\n",
    "else:\n",
    "    print(\"maximum of the two numbers is:\",b)\n",
    "    "
   ]
  },
  {
   "cell_type": "markdown",
   "id": "1ae7c80c",
   "metadata": {},
   "source": [
    "4.Write a Python script to classify a given year as a leap year or not."
   ]
  },
  {
   "cell_type": "code",
   "execution_count": 10,
   "id": "000e4195",
   "metadata": {},
   "outputs": [
    {
     "name": "stdout",
     "output_type": "stream",
     "text": [
      "enter the year: 2004\n",
      "this year is leap year\n"
     ]
    }
   ],
   "source": [
    "year=int(input(\"enter the year: \"))\n",
    "if year%4==0:\n",
    "    print(\"this year is leap year\")\n",
    "else:\n",
    "    print(\"this year is not leap year\")"
   ]
  },
  {
   "cell_type": "markdown",
   "id": "21e1d79f",
   "metadata": {},
   "source": [
    "5. Create a program that checks whether a character is a vowel or a consonant."
   ]
  },
  {
   "cell_type": "code",
   "execution_count": 11,
   "id": "27fca53f",
   "metadata": {},
   "outputs": [
    {
     "name": "stdout",
     "output_type": "stream",
     "text": [
      "enter a character: a\n",
      "character is vowel\n"
     ]
    }
   ],
   "source": [
    "s='aeiou'\n",
    "c=input(\"enter a character: \")\n",
    "if c in s:\n",
    "    print('character is vowel')\n",
    "else:\n",
    "    print('character is not vowel')    "
   ]
  },
  {
   "cell_type": "markdown",
   "id": "5a6a1447",
   "metadata": {},
   "source": [
    "6. Implement a program to determine whether a given number is even or odd."
   ]
  },
  {
   "cell_type": "code",
   "execution_count": 12,
   "id": "014d27e9",
   "metadata": {},
   "outputs": [
    {
     "name": "stdout",
     "output_type": "stream",
     "text": [
      "enter a number: 55\n",
      "number is odd\n"
     ]
    }
   ],
   "source": [
    "n=int(input(\"enter a number: \"))\n",
    "if n%2==0:\n",
    "    print(\"number is even\")\n",
    "else:\n",
    "    print(\"number is odd\")    "
   ]
  },
  {
   "cell_type": "markdown",
   "id": "62f61e4d",
   "metadata": {},
   "source": [
    "7. Write a Python function to calculate the absolute value of a number without using the `abs()` function."
   ]
  },
  {
   "cell_type": "code",
   "execution_count": 3,
   "id": "c985b1d2",
   "metadata": {},
   "outputs": [
    {
     "name": "stdout",
     "output_type": "stream",
     "text": [
      "enter any number:10\n",
      "absolute number is: 10.0\n"
     ]
    }
   ],
   "source": [
    "n= float(input('enter any number:'))\n",
    "if n<0:\n",
    "    print(\"absolute number is: \", n*-1)\n",
    "else:\n",
    "    print(\"absolute number is:\",n)"
   ]
  },
  {
   "cell_type": "markdown",
   "id": "2ba06ec9",
   "metadata": {},
   "source": [
    "8. Develop a program that determines the largest of three given numbers using if-else statements."
   ]
  },
  {
   "cell_type": "code",
   "execution_count": 12,
   "id": "288617dd",
   "metadata": {},
   "outputs": [
    {
     "name": "stdout",
     "output_type": "stream",
     "text": [
      "enter three numbers:1 2 3\n",
      "largest number is:  3\n"
     ]
    }
   ],
   "source": [
    "a,b,c=[int(x) for x in input('enter three numbers:').split()]\n",
    "if a>b and a>c:\n",
    "    print(\"largest number is: \",a)\n",
    "elif b>a and b>c:\n",
    "    print(\"largest number is: \",b)\n",
    "else:\n",
    "    print(\"largest number is: \",c)"
   ]
  },
  {
   "cell_type": "markdown",
   "id": "591d7433",
   "metadata": {},
   "source": [
    "9. Create a program that checks if a given string is a palindrome."
   ]
  },
  {
   "cell_type": "code",
   "execution_count": 17,
   "id": "4fab2cce",
   "metadata": {},
   "outputs": [
    {
     "name": "stdout",
     "output_type": "stream",
     "text": [
      "enter any string: mans\n",
      "string is not palindrome\n"
     ]
    }
   ],
   "source": [
    "s=input(\"enter any string: \")\n",
    "r=s[::-1]\n",
    "if s==r:\n",
    "    print(\"string is palindrome\")\n",
    "else:\n",
    "    print(\"string is not palindrome\")"
   ]
  },
  {
   "cell_type": "markdown",
   "id": "991227e0",
   "metadata": {},
   "source": [
    "10. Write a Python program to calculate the grade based on a student's score."
   ]
  },
  {
   "cell_type": "code",
   "execution_count": 19,
   "id": "f29ea5bc",
   "metadata": {},
   "outputs": [
    {
     "name": "stdout",
     "output_type": "stream",
     "text": [
      "enter your score: 12.3\n",
      "grade F\n"
     ]
    }
   ],
   "source": [
    "n=float(input(\"enter your score: \"))\n",
    "if 0<=n<40:\n",
    "    print(\"grade F\")\n",
    "elif 40<=n<60:\n",
    "    print('grade P')\n",
    "else:\n",
    "    print(\"grade Ex\")\n",
    "    "
   ]
  },
  {
   "cell_type": "markdown",
   "id": "76f08d7f",
   "metadata": {},
   "source": [
    "11. Write a program to find the largest among three numbers using nested if-else statements."
   ]
  },
  {
   "cell_type": "code",
   "execution_count": null,
   "id": "e5869af1",
   "metadata": {},
   "outputs": [],
   "source": []
  }
 ],
 "metadata": {
  "kernelspec": {
   "display_name": "Python 3 (ipykernel)",
   "language": "python",
   "name": "python3"
  },
  "language_info": {
   "codemirror_mode": {
    "name": "ipython",
    "version": 3
   },
   "file_extension": ".py",
   "mimetype": "text/x-python",
   "name": "python",
   "nbconvert_exporter": "python",
   "pygments_lexer": "ipython3",
   "version": "3.9.12"
  }
 },
 "nbformat": 4,
 "nbformat_minor": 5
}
